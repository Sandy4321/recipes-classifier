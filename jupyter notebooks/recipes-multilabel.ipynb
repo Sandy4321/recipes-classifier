{
 "cells": [
  {
   "cell_type": "code",
   "execution_count": 1,
   "metadata": {
    "_cell_guid": "b1076dfc-b9ad-4769-8c92-a6c4dae69d19",
    "_uuid": "8f2839f25d086af736a60e9eeb907d3b93b6e0e5"
   },
   "outputs": [],
   "source": [
    "import numpy as np # linear algebra\n",
    "import pandas as pd # data processing, CSV file I/O (e.g. pd.read_csv)\n",
    "import matplotlib.pyplot as plt\n",
    "import seaborn as sns\n",
    "import nltk\n",
    "import re\n",
    "from sklearn.feature_extraction.text import TfidfVectorizer\n",
    "from sklearn.model_selection import train_test_split\n",
    "from sklearn.linear_model import LogisticRegression\n",
    "from sklearn.multiclass import OneVsRestClassifier\n",
    "from sklearn.metrics import f1_score\n",
    "import pickle\n",
    "from string import punctuation\n",
    "from sklearn.preprocessing import MultiLabelBinarizer\n",
    "from sklearn.linear_model import LogisticRegression\n",
    "from sklearn.multiclass import OneVsRestClassifier\n",
    "from sklearn.metrics import f1_score\n",
    "\n",
    "!pip install pymystem3\n",
    "from pymystem3 import Mystem\n",
    "\n",
    "nltk.download('wordnet')\n",
    "nltk.download('punkt')"
   ]
  },
  {
   "cell_type": "code",
   "execution_count": null,
   "metadata": {},
   "outputs": [],
   "source": [
    "recipes=pd.read_csv('/kaggle/input/food-com-recipes-and-user-interactions/RAW_recipes.csv',\n",
    "                   converters={'tags': lambda x: x[1:-1].replace('\"', '').replace(\"'\", \"\").replace(\" \", \"\").split(',')}\n",
    "                   )\n",
    "\n",
    "recipes[\"Text\"] = recipes[\"name\"] + ' ' + recipes[\"description\"] + ' ' + recipes[\"steps\"]\n",
    "recipes = recipes.drop(['id', 'minutes','contributor_id', 'nutrition', 'n_steps', 'n_ingredients', 'submitted', 'name', 'description', 'steps', 'ingredients'], axis=1)\n",
    "recipes.head()"
   ]
  },
  {
   "cell_type": "code",
   "execution_count": null,
   "metadata": {},
   "outputs": [],
   "source": [
    "stop_list = ['ThrowtheultimatefiestawiththissopaipillasrecipefromFood.com.', \n",
    "               'preparation', 'time-to-make', 'course', 'cuisine', 'low-in-something',\n",
    "               'equipment', 'number-of-servings', 'healthy-2', 'free-of-something' ,'technique',\n",
    "               'high-in-something', 'high-in-something-diabetic-friendly', \n",
    "               'less_thansql:name_topics_of_recipegreater_than', '15-minutes-or-less', '30-minutes-or-less', '60-minutes-or-less', \n",
    "               '4-hours-or-less', '3-steps-or-less', '5-ingredients-or-less', 'very-low-carbs', '1-day-or-more', 'copycat',\n",
    "               'oamc-freezer-make-ahead', 'heirloom-historical',\n",
    "              ]\n",
    "\n",
    "recipes['tags'] = recipes['tags'].apply(\n",
    "    lambda row: [val for val in row if val not in stop_list]\n",
    ")"
   ]
  },
  {
   "cell_type": "code",
   "execution_count": null,
   "metadata": {},
   "outputs": [],
   "source": [
    "def clean_text(text):\n",
    "    text = re.sub(\"\\'\", \"\", text)\n",
    "    text = re.sub(\",\" , \" \", text)\n",
    "    text = re.sub(\"[^a-zA-Z]\",\" \",text) \n",
    "    text = ' '.join(text.split()) \n",
    "    text = text.lower() \n",
    "    return text\n",
    "\n",
    "recipes.Text = recipes.Text.fillna(\" no recipe \")\n",
    "recipes.Text = recipes.Text.apply(lambda x: clean_text(x))\n",
    "\n",
    "from nltk.corpus import stopwords\n",
    "stop_words = set(stopwords.words('english'))\n",
    "\n",
    "def remove_stopwords(text):\n",
    "    no_stopword_text = [w for w in text.split() if not w in stop_words]\n",
    "    return ' '.join(no_stopword_text)\n",
    "\n",
    "recipes.Text = recipes.Text.apply(lambda x: remove_stopwords(x))\n",
    "\n",
    "from nltk.stem import WordNetLemmatizer\n",
    "wordnet_lemmatizer = WordNetLemmatizer()\n",
    "\n",
    "def lemmatize_text(text):\n",
    "    lemmatized_text=[]\n",
    "    sentence_words = nltk.word_tokenize(text)\n",
    "    for word in sentence_words:\n",
    "        lemmatized_text.append(wordnet_lemmatizer.lemmatize(word, pos=\"v\"))\n",
    "    lemmatized_text = ' '.join(lemmatized_text)\n",
    "    return lemmatized_text\n",
    "\n",
    "recipes.Text = recipes.Text.apply(lambda x: lemmatize_text(x))"
   ]
  },
  {
   "cell_type": "code",
   "execution_count": null,
   "metadata": {},
   "outputs": [],
   "source": [
    "multilabel_binarizer = MultiLabelBinarizer()\n",
    "multilabel_binarizer.fit(recipes['tags'])\n",
    "\n",
    "y = multilabel_binarizer.transform(recipes['tags'])\n",
    "\n",
    "tfidf_vectorizer = TfidfVectorizer(max_df=0.8, max_features=10000)\n",
    "\n",
    "xtrain, xval, ytrain, yval = train_test_split(recipes.Text, y, test_size=0.2, random_state=9)\n",
    "xtrain_tfidf = tfidf_vectorizer.fit_transform(xtrain)\n",
    "xval_tfidf = tfidf_vectorizer.transform(xval)\n",
    "\n",
    "lr = LogisticRegression(max_iter = 1000, class_weight='balanced')\n",
    "clf = OneVsRestClassifier(lr)\n",
    "clf.fit(xtrain_tfidf, ytrain)"
   ]
  },
  {
   "cell_type": "code",
   "execution_count": null,
   "metadata": {},
   "outputs": [],
   "source": [
    "y_pred = clf.predict(xval_tfidf)\n",
    "f1_score(yval, y_pred, average=\"micro\")"
   ]
  },
  {
   "cell_type": "code",
   "execution_count": null,
   "metadata": {},
   "outputs": [],
   "source": [
    "def infer_tags(q):\n",
    "    q = clean_text(q)\n",
    "    q = remove_stopwords(q)\n",
    "    q = lemmatize_text(q)\n",
    "    q_vec = tfidf_vectorizer.transform([q])\n",
    "    q_pred = clf.predict(q_vec)\n",
    "    return multilabel_binarizer.inverse_transform(q_pred)\n",
    "\n",
    "infer_tags('fried chicken')"
   ]
  },
  {
   "cell_type": "code",
   "execution_count": null,
   "metadata": {},
   "outputs": [],
   "source": [
    "model_filename = 'multilabel_model.sav'\n",
    "pickle.dump(clf, open(model_filename, 'wb'))\n",
    "\n",
    "tfidf = 'tfidf.sav'\n",
    "pickle.dump(tfidf_vectorizer, open(tfidf, 'wb'))\n",
    "\n",
    "model_filename = 'multilabel_binarizer.sav'\n",
    "pickle.dump(multilabel_binarizer, open(model_filename, 'wb'))"
   ]
  },
  {
   "cell_type": "code",
   "execution_count": null,
   "metadata": {},
   "outputs": [],
   "source": [
    "loaded_model = pickle.load(open('/kaggle/working/multilabel_model.sav', 'rb'))\n",
    "tfidf_vect_loaded = pickle.load(open('/kaggle/working/tfidf.sav', 'rb'))\n",
    "binarizer = pickle.load(open('/kaggle/working/multilabel_binarizer.sav', 'rb'))\n",
    "\n",
    "def infer_tags2(q):\n",
    "    q = clean_text(q)\n",
    "    q = remove_stopwords(q)\n",
    "    q = lemmatize_text(q)\n",
    "    q_vec = tfidf_vect_loaded.transform([q])\n",
    "    q_pred = loaded_model.predict(q_vec)\n",
    "    return binarizer.inverse_transform(q_pred)\n",
    "infer_tags2(\" pizza \")"
   ]
  }
 ],
 "metadata": {
  "kernelspec": {
   "display_name": "Python 3",
   "language": "python",
   "name": "python3"
  },
  "language_info": {
   "codemirror_mode": {
    "name": "ipython",
    "version": 3
   },
   "file_extension": ".py",
   "mimetype": "text/x-python",
   "name": "python",
   "nbconvert_exporter": "python",
   "pygments_lexer": "ipython3",
   "version": "3.8.2"
  }
 },
 "nbformat": 4,
 "nbformat_minor": 4
}

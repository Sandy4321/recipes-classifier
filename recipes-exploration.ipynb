{
 "cells": [
  {
   "cell_type": "code",
   "execution_count": 8,
   "metadata": {},
   "outputs": [],
   "source": [
    "import pandas as pd\n",
    "import numpy as np\n",
    "import matplotlib.pyplot as plt\n",
    "import seaborn as sns"
   ]
  },
  {
   "cell_type": "code",
   "execution_count": 6,
   "metadata": {},
   "outputs": [
    {
     "data": {
      "text/html": [
       "<div>\n",
       "<style scoped>\n",
       "    .dataframe tbody tr th:only-of-type {\n",
       "        vertical-align: middle;\n",
       "    }\n",
       "\n",
       "    .dataframe tbody tr th {\n",
       "        vertical-align: top;\n",
       "    }\n",
       "\n",
       "    .dataframe thead th {\n",
       "        text-align: right;\n",
       "    }\n",
       "</style>\n",
       "<table border=\"1\" class=\"dataframe\">\n",
       "  <thead>\n",
       "    <tr style=\"text-align: right;\">\n",
       "      <th></th>\n",
       "      <th>Text</th>\n",
       "      <th>t1</th>\n",
       "      <th>t2</th>\n",
       "      <th>t3</th>\n",
       "    </tr>\n",
       "  </thead>\n",
       "  <tbody>\n",
       "    <tr>\n",
       "      <th>0</th>\n",
       "      <td>Давным давно, когда армия еще была Советской, ...</td>\n",
       "      <td>Горячие блюда</td>\n",
       "      <td>Блюда из  мяса</td>\n",
       "      <td>Горячие блюда с колбасными изделиями</td>\n",
       "    </tr>\n",
       "    <tr>\n",
       "      <th>1</th>\n",
       "      <td>Булки-зайцы сделала из постного теста на помид...</td>\n",
       "      <td>Выпечка</td>\n",
       "      <td>Изделия из теста</td>\n",
       "      <td>Булочки</td>\n",
       "    </tr>\n",
       "    <tr>\n",
       "      <th>2</th>\n",
       "      <td>Мягкие и невероятно вкусные рулетики из творож...</td>\n",
       "      <td>Выпечка</td>\n",
       "      <td>Изделия из теста</td>\n",
       "      <td>Рулеты</td>\n",
       "    </tr>\n",
       "    <tr>\n",
       "      <th>3</th>\n",
       "      <td>Очень вкусные, сочные, сытные и несложные в пр...</td>\n",
       "      <td>Выпечка</td>\n",
       "      <td>Изделия из теста</td>\n",
       "      <td>Пироги</td>\n",
       "    </tr>\n",
       "    <tr>\n",
       "      <th>4</th>\n",
       "      <td>Испечённый в духовке кекс с тонким ароматом и ...</td>\n",
       "      <td>Выпечка</td>\n",
       "      <td>Изделия из теста</td>\n",
       "      <td>Кексы</td>\n",
       "    </tr>\n",
       "    <tr>\n",
       "      <th>5</th>\n",
       "      <td>Рецепт куриных крыльев типа KFC. Делаются дост...</td>\n",
       "      <td>Горячие блюда</td>\n",
       "      <td>Блюда из птицы</td>\n",
       "      <td>Горячие блюда из курицы</td>\n",
       "    </tr>\n",
       "    <tr>\n",
       "      <th>6</th>\n",
       "      <td>Отличный диетический супчик, очень простой в п...</td>\n",
       "      <td>Бульоны и супы</td>\n",
       "      <td>Горячие супы</td>\n",
       "      <td>Рыбный суп</td>\n",
       "    </tr>\n",
       "    <tr>\n",
       "      <th>7</th>\n",
       "      <td>Скоро пост закончится и на наших столах вновь ...</td>\n",
       "      <td>Горячие блюда</td>\n",
       "      <td>Блюда из овощей, грибов, бобовых</td>\n",
       "      <td>Горячие блюда из овощей</td>\n",
       "    </tr>\n",
       "    <tr>\n",
       "      <th>8</th>\n",
       "      <td>Готовим пиццу в духовке</td>\n",
       "      <td>Выпечка</td>\n",
       "      <td>Пицца</td>\n",
       "      <td></td>\n",
       "    </tr>\n",
       "    <tr>\n",
       "      <th>9</th>\n",
       "      <td>Сегодня мы готовим новогодний салат Оливье</td>\n",
       "      <td>Салаты</td>\n",
       "      <td>Салаты из мяса</td>\n",
       "      <td>Салаты с колбасными изделиями</td>\n",
       "    </tr>\n",
       "    <tr>\n",
       "      <th>10</th>\n",
       "      <td>Вкусный творожный крем для украшения тортов и ...</td>\n",
       "      <td>Украшения для блюд</td>\n",
       "      <td>Украшения из крема</td>\n",
       "      <td></td>\n",
       "    </tr>\n",
       "    <tr>\n",
       "      <th>11</th>\n",
       "      <td>Предлагаю вам, уважаемые поварята, один из спо...</td>\n",
       "      <td>Горячие блюда</td>\n",
       "      <td>Блюда из птицы</td>\n",
       "      <td>Горячие блюда из курицы</td>\n",
       "    </tr>\n",
       "    <tr>\n",
       "      <th>12</th>\n",
       "      <td>Этот рецепт я подсмотрела у известного шеф-пов...</td>\n",
       "      <td>Горячие блюда</td>\n",
       "      <td>Блюда из овощей, грибов, бобовых</td>\n",
       "      <td>Горячие блюда из овощей</td>\n",
       "    </tr>\n",
       "    <tr>\n",
       "      <th>13</th>\n",
       "      <td>Не за горами светлый весенний праздник Пасхи! ...</td>\n",
       "      <td>Десерты</td>\n",
       "      <td>Печенье</td>\n",
       "      <td>Песочное печенье</td>\n",
       "    </tr>\n",
       "    <tr>\n",
       "      <th>14</th>\n",
       "      <td>Рогалики, тесто которых сделано на рассоле из-...</td>\n",
       "      <td>Выпечка</td>\n",
       "      <td>Изделия из теста</td>\n",
       "      <td>Рулеты</td>\n",
       "    </tr>\n",
       "  </tbody>\n",
       "</table>\n",
       "</div>"
      ],
      "text/plain": [
       "                                                 Text                  t1  \\\n",
       "0   Давным давно, когда армия еще была Советской, ...       Горячие блюда   \n",
       "1   Булки-зайцы сделала из постного теста на помид...             Выпечка   \n",
       "2   Мягкие и невероятно вкусные рулетики из творож...             Выпечка   \n",
       "3   Очень вкусные, сочные, сытные и несложные в пр...             Выпечка   \n",
       "4   Испечённый в духовке кекс с тонким ароматом и ...             Выпечка   \n",
       "5   Рецепт куриных крыльев типа KFC. Делаются дост...       Горячие блюда   \n",
       "6   Отличный диетический супчик, очень простой в п...      Бульоны и супы   \n",
       "7   Скоро пост закончится и на наших столах вновь ...       Горячие блюда   \n",
       "8                             Готовим пиццу в духовке             Выпечка   \n",
       "9          Сегодня мы готовим новогодний салат Оливье              Салаты   \n",
       "10  Вкусный творожный крем для украшения тортов и ...  Украшения для блюд   \n",
       "11  Предлагаю вам, уважаемые поварята, один из спо...       Горячие блюда   \n",
       "12  Этот рецепт я подсмотрела у известного шеф-пов...       Горячие блюда   \n",
       "13  Не за горами светлый весенний праздник Пасхи! ...             Десерты   \n",
       "14  Рогалики, тесто которых сделано на рассоле из-...             Выпечка   \n",
       "\n",
       "                                  t2                                    t3  \n",
       "0                     Блюда из  мяса  Горячие блюда с колбасными изделиями  \n",
       "1                   Изделия из теста                               Булочки  \n",
       "2                   Изделия из теста                                Рулеты  \n",
       "3                   Изделия из теста                                Пироги  \n",
       "4                   Изделия из теста                                 Кексы  \n",
       "5                     Блюда из птицы               Горячие блюда из курицы  \n",
       "6                       Горячие супы                            Рыбный суп  \n",
       "7   Блюда из овощей, грибов, бобовых               Горячие блюда из овощей  \n",
       "8                              Пицца                                        \n",
       "9                     Салаты из мяса         Салаты с колбасными изделиями  \n",
       "10                Украшения из крема                                        \n",
       "11                    Блюда из птицы               Горячие блюда из курицы  \n",
       "12  Блюда из овощей, грибов, бобовых               Горячие блюда из овощей  \n",
       "13                           Печенье                      Песочное печенье  \n",
       "14                  Изделия из теста                                Рулеты  "
      ]
     },
     "execution_count": 6,
     "metadata": {},
     "output_type": "execute_result"
    }
   ],
   "source": [
    "recipes=pd.read_csv('products.csv', \n",
    "                 names=['Text','t1','t2','t3'],\n",
    "                 skiprows=1,\n",
    "                 sep='|')\n",
    "recipes.head(15)"
   ]
  },
  {
   "cell_type": "code",
   "execution_count": 18,
   "metadata": {},
   "outputs": [
    {
     "data": {
      "text/plain": [
       "(4470, 4)"
      ]
     },
     "execution_count": 18,
     "metadata": {},
     "output_type": "execute_result"
    }
   ],
   "source": [
    "recipes.shape"
   ]
  },
  {
   "cell_type": "code",
   "execution_count": 29,
   "metadata": {},
   "outputs": [
    {
     "data": {
      "text/plain": [
       "<matplotlib.axes._subplots.AxesSubplot at 0x23f38fd8320>"
      ]
     },
     "execution_count": 29,
     "metadata": {},
     "output_type": "execute_result"
    },
    {
     "data": {
      "image/png": "[encoded data removed]",
      "text/plain": [
       "<Figure size 432x288 with 1 Axes>"
      ]
     },
     "metadata": {
      "needs_background": "light"
     },
     "output_type": "display_data"
    }
   ],
   "source": [
    "recipes.t1.value_counts().plot(kind='bar')"
   ]
  },
  {
   "cell_type": "code",
   "execution_count": null,
   "metadata": {},
   "outputs": [],
   "source": []
  }
 ],
 "metadata": {
  "kernelspec": {
   "display_name": "Python 3",
   "language": "python",
   "name": "python3"
  },
  "language_info": {
   "codemirror_mode": {
    "name": "ipython",
    "version": 3
   },
   "file_extension": ".py",
   "mimetype": "text/x-python",
   "name": "python",
   "nbconvert_exporter": "python",
   "pygments_lexer": "ipython3",
   "version": "3.7.1"
  }
 },
 "nbformat": 4,
 "nbformat_minor": 2
}
